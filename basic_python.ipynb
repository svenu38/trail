{
 "cells": [
  {
   "cell_type": "markdown",
   "metadata": {},
   "source": [
    "# Basic python "
   ]
  },
  {
   "cell_type": "markdown",
   "metadata": {},
   "source": []
  },
  {
   "cell_type": "markdown",
   "metadata": {},
   "source": [
    "## program 1 \n",
    "Write a python program to print a \"Hello Python\""
   ]
  },
  {
   "cell_type": "code",
   "execution_count": 1,
   "metadata": {},
   "outputs": [
    {
     "name": "stdout",
     "output_type": "stream",
     "text": [
      "Hello Python\n"
     ]
    }
   ],
   "source": [
    "print(\"Hello Python\")"
   ]
  },
  {
   "cell_type": "markdown",
   "metadata": {},
   "source": [
    "## program 2 \n",
    "Write a python program to do aithmetical operations addition and division."
   ]
  },
  {
   "cell_type": "code",
   "execution_count": 2,
   "metadata": {},
   "outputs": [
    {
     "name": "stdout",
     "output_type": "stream",
     "text": [
      "sum : 3.0 + 2.0 = 5.0\n"
     ]
    }
   ],
   "source": [
    "# addition \n",
    "num1 = float(input(\"Enter the first number for additon\"))\n",
    "num2 = float(input(\"Enter the second number for addition\"))\n",
    "sum_results = num1 + num2\n",
    "print(f\"sum : {num1} + {num2} = {sum_results}\")"
   ]
  },
  {
   "cell_type": "code",
   "execution_count": 7,
   "metadata": {},
   "outputs": [
    {
     "name": "stdout",
     "output_type": "stream",
     "text": [
      "division : 100.0/2.0 = 50.0\n"
     ]
    }
   ],
   "source": [
    "# Division\n",
    "\n",
    "num3 = float(input('Enter the dividend  for division'))\n",
    "num4 = float(input(\"Enter the divisor number for division\"))\n",
    "\n",
    "if num4 == 0 :\n",
    "    print(\"Error : Division by Zero is not allowed.\")\n",
    "else :\n",
    "    div_result = num3 /num4\n",
    "    print(f'division : {num3}/{num4} = {div_result}')\n"
   ]
  },
  {
   "cell_type": "markdown",
   "metadata": {},
   "source": [
    "## program 3 \n",
    "write a python program to find the area of triangle \n"
   ]
  },
  {
   "cell_type": "code",
   "execution_count": 8,
   "metadata": {},
   "outputs": [
    {
     "name": "stdout",
     "output_type": "stream",
     "text": [
      "The area of the traingle is :6.0\n"
     ]
    }
   ],
   "source": [
    "# to find the area of triangle we need to get the input of base and height from the user\n",
    "base = float(input(\"Enter the length of the base of the triangle\"))\n",
    "height = float(input(\"Enter the Height of the triangle\"))\n",
    "\n",
    "# calculate the area of a triagle \n",
    "\n",
    "area = 0.5 * base * height\n",
    "\n",
    "# display the area \n",
    "\n",
    "print(f\"The area of the traingle is :{area}\")"
   ]
  },
  {
   "cell_type": "code",
   "execution_count": null,
   "metadata": {},
   "outputs": [],
   "source": []
  }
 ],
 "metadata": {
  "kernelspec": {
   "display_name": "Python 3",
   "language": "python",
   "name": "python3"
  },
  "language_info": {
   "codemirror_mode": {
    "name": "ipython",
    "version": 3
   },
   "file_extension": ".py",
   "mimetype": "text/x-python",
   "name": "python",
   "nbconvert_exporter": "python",
   "pygments_lexer": "ipython3",
   "version": "3.11.0"
  }
 },
 "nbformat": 4,
 "nbformat_minor": 2
}
