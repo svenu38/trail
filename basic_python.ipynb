{
 "cells": [
  {
   "cell_type": "markdown",
   "metadata": {},
   "source": [
    "# Basic python "
   ]
  },
  {
   "cell_type": "markdown",
   "metadata": {},
   "source": []
  },
  {
   "cell_type": "markdown",
   "metadata": {},
   "source": [
    "## program 1 \n",
    "Write a python program to print a \"Hello Python\""
   ]
  },
  {
   "cell_type": "code",
   "execution_count": 1,
   "metadata": {},
   "outputs": [
    {
     "name": "stdout",
     "output_type": "stream",
     "text": [
      "Hello Python\n"
     ]
    }
   ],
   "source": [
    "print(\"Hello Python\")"
   ]
  },
  {
   "cell_type": "markdown",
   "metadata": {},
   "source": [
    "## program 2 \n",
    "Write a python program to do aithmetical operations addition and division."
   ]
  },
  {
   "cell_type": "code",
   "execution_count": 2,
   "metadata": {},
   "outputs": [
    {
     "name": "stdout",
     "output_type": "stream",
     "text": [
      "sum : 3.0 + 2.0 = 5.0\n"
     ]
    }
   ],
   "source": [
    "# addition \n",
    "num1 = float(input(\"Enter the first number for additon\"))\n",
    "num2 = float(input(\"Enter the second number for addition\"))\n",
    "sum_results = num1 + num2\n",
    "print(f\"sum : {num1} + {num2} = {sum_results}\")"
   ]
  },
  {
   "cell_type": "code",
   "execution_count": 7,
   "metadata": {},
   "outputs": [
    {
     "name": "stdout",
     "output_type": "stream",
     "text": [
      "division : 100.0/2.0 = 50.0\n"
     ]
    }
   ],
   "source": [
    "# Division\n",
    "\n",
    "num3 = float(input('Enter the dividend  for division'))\n",
    "num4 = float(input(\"Enter the divisor number for division\"))\n",
    "\n",
    "if num4 == 0 :\n",
    "    print(\"Error : Division by Zero is not allowed.\")\n",
    "else :\n",
    "    div_result = num3 /num4\n",
    "    print(f'division : {num3}/{num4} = {div_result}')\n"
   ]
  },
  {
   "cell_type": "markdown",
   "metadata": {},
   "source": [
    "## program 3 \n",
    "write a python program to find the area of triangle \n"
   ]
  },
  {
   "cell_type": "code",
   "execution_count": 9,
   "metadata": {},
   "outputs": [
    {
     "name": "stdout",
     "output_type": "stream",
     "text": [
      "The area of the traingle is :6.0\n"
     ]
    }
   ],
   "source": [
    "# to find the area of triangle we need to get the input of base and height from the user\n",
    "base = float(input(\"Enter the length of the base of the triangle\"))\n",
    "height = float(input(\"Enter the Height of the triangle\"))\n",
    "\n",
    "# calculate the area of a triagle \n",
    "\n",
    "area = 0.5 * base * height\n",
    "\n",
    "# display the area \n",
    "\n",
    "print(f\"The area of the traingle is :{area}\")"
   ]
  },
  {
   "cell_type": "markdown",
   "metadata": {},
   "source": [
    "## program 4 \n",
    "write a program to swap two variables . \n"
   ]
  },
  {
   "cell_type": "code",
   "execution_count": 11,
   "metadata": {},
   "outputs": [
    {
     "name": "stdout",
     "output_type": "stream",
     "text": [
      " the original values of a = 3 and b = 4\n",
      "after swap a = 4 and b = 3\n"
     ]
    }
   ],
   "source": [
    "# input two variable \n",
    "a = input(\"Enter the value of the first variable (a):\")\n",
    "b = input(\"enter the value of the second variable (b):\")\n",
    "\n",
    "print(f\" the original values of a = {a} and b = {b}\")\n",
    "\n",
    "temp = a \n",
    "a = b \n",
    "b = temp \n",
    " # display the after swap the two variable \n",
    "\n",
    "print(f\"after swap a = {a} and b = {b }\")"
   ]
  },
  {
   "cell_type": "markdown",
   "metadata": {},
   "source": [
    "## program 6 \n",
    "Write a python program to generate a random number . "
   ]
  },
  {
   "cell_type": "code",
   "execution_count": 13,
   "metadata": {},
   "outputs": [
    {
     "name": "stdout",
     "output_type": "stream",
     "text": [
      "Random Number: 93\n"
     ]
    }
   ],
   "source": [
    "import random\n",
    "print(f'Random Number: {random.randint(1,100)}')"
   ]
  },
  {
   "cell_type": "markdown",
   "metadata": {},
   "source": [
    "## program 7 \n",
    "Write a python program to check the number is Positive,Negative or Zero "
   ]
  },
  {
   "cell_type": "code",
   "execution_count": 17,
   "metadata": {},
   "outputs": [
    {
     "name": "stdout",
     "output_type": "stream",
     "text": [
      "Negative number \n"
     ]
    }
   ],
   "source": [
    "num = int(input(\"Enter any number \"))\n",
    "if num > 0 :\n",
    "    print('positive number')\n",
    "elif num == 0 : \n",
    "    print(\"Zero\")\n",
    "else :\n",
    "    print(\"Negative number \")\n",
    "    "
   ]
  },
  {
   "cell_type": "markdown",
   "metadata": {},
   "source": [
    "program 8 "
   ]
  },
  {
   "cell_type": "code",
   "execution_count": null,
   "metadata": {},
   "outputs": [],
   "source": []
  }
 ],
 "metadata": {
  "kernelspec": {
   "display_name": "Python 3",
   "language": "python",
   "name": "python3"
  },
  "language_info": {
   "codemirror_mode": {
    "name": "ipython",
    "version": 3
   },
   "file_extension": ".py",
   "mimetype": "text/x-python",
   "name": "python",
   "nbconvert_exporter": "python",
   "pygments_lexer": "ipython3",
   "version": "3.11.0"
  }
 },
 "nbformat": 4,
 "nbformat_minor": 2
}
